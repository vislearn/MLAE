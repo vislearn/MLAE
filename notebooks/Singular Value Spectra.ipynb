{
 "cells": [
  {
   "cell_type": "code",
   "execution_count": null,
   "metadata": {},
   "outputs": [],
   "source": [
    "import matplotlib.pyplot as plt\n",
    "from mlae.evaluate import (\n",
    "    load_model,\n",
    "    plot_decoder_singular_value_spectrum,\n",
    "    compute_decoder_singular_values_ge_one,\n",
    ")"
   ]
  },
  {
   "cell_type": "code",
   "execution_count": 2,
   "metadata": {},
   "outputs": [],
   "source": [
    "MODEL_PATHS = [\n",
    "    \"../MLAE/lightning_logs/model1_name/version_X\",\n",
    "    \"../MLAE/lightning_logs/model2_name/version_Y\",\n",
    "]  # change this to the paths of your trained models"
   ]
  },
  {
   "cell_type": "code",
   "execution_count": null,
   "metadata": {},
   "outputs": [],
   "source": [
    "plt.figure(figsize=(12, 4))\n",
    "\n",
    "for model_path in MODEL_PATHS:\n",
    "    model = load_model(model_path)\n",
    "    plot_decoder_singular_value_spectrum(model, 128, 1, plt_kwargs={\"label\": model_path.split(\"/\")[-2:]})\n",
    "    plt.yscale(\"log\")\n",
    "    plt.xlabel(\"number of singular value\")\n",
    "    plt.ylabel(\"singular value\")\n",
    "    plt.legend()\n",
    "\n",
    "    singular_values_ge_one = compute_decoder_singular_values_ge_one(model, 128, 1)\n",
    "    print(f\"model: {model_path.split('/')[-2:]}, singular values greater or equal to one: {singular_values_ge_one[0]}\")\n"
   ]
  },
  {
   "cell_type": "code",
   "execution_count": null,
   "metadata": {},
   "outputs": [],
   "source": []
  }
 ],
 "metadata": {
  "kernelspec": {
   "display_name": ".venv",
   "language": "python",
   "name": "python3"
  },
  "language_info": {
   "codemirror_mode": {
    "name": "ipython",
    "version": 3
   },
   "file_extension": ".py",
   "mimetype": "text/x-python",
   "name": "python",
   "nbconvert_exporter": "python",
   "pygments_lexer": "ipython3",
   "version": "3.11.3"
  },
  "orig_nbformat": 4
 },
 "nbformat": 4,
 "nbformat_minor": 2
}
